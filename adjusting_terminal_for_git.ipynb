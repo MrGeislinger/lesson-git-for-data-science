{
 "cells": [
  {
   "cell_type": "markdown",
   "metadata": {
    "toc": true
   },
   "source": [
    "<h1>Table of Contents<span class=\"tocSkip\"></span></h1>\n",
    "<div class=\"toc\"><ul class=\"toc-item\"><li><span><a href=\"#Autocompletion-for-git\" data-toc-modified-id=\"Autocompletion-for-git-1\"><span class=\"toc-item-num\">1&nbsp;&nbsp;</span>Autocompletion for git</a></span><ul class=\"toc-item\"><li><span><a href=\"#Example\" data-toc-modified-id=\"Example-1.1\"><span class=\"toc-item-num\">1.1&nbsp;&nbsp;</span>Example</a></span></li></ul></li><li><span><a href=\"#Customizing-the-prompt\" data-toc-modified-id=\"Customizing-the-prompt-2\"><span class=\"toc-item-num\">2&nbsp;&nbsp;</span>Customizing the prompt</a></span><ul class=\"toc-item\"><li><span><a href=\"#Example-setup\" data-toc-modified-id=\"Example-setup-2.1\"><span class=\"toc-item-num\">2.1&nbsp;&nbsp;</span>Example setup</a></span></li></ul></li><li><span><a href=\"#Aliasing-commands-for-git\" data-toc-modified-id=\"Aliasing-commands-for-git-3\"><span class=\"toc-item-num\">3&nbsp;&nbsp;</span>Aliasing commands for git</a></span><ul class=\"toc-item\"><li><span><a href=\"#Example:-A-prettier-git-log\" data-toc-modified-id=\"Example:-A-prettier-git-log-3.1\"><span class=\"toc-item-num\">3.1&nbsp;&nbsp;</span>Example: A prettier <code>git log</code></a></span></li></ul></li><li><span><a href=\"#Better-diff-for-Jupyter-Notebooks\" data-toc-modified-id=\"Better-diff-for-Jupyter-Notebooks-4\"><span class=\"toc-item-num\">4&nbsp;&nbsp;</span>Better <code>diff</code> for Jupyter Notebooks</a></span><ul class=\"toc-item\"><li><span><a href=\"#Comparing-notebooks\" data-toc-modified-id=\"Comparing-notebooks-4.1\"><span class=\"toc-item-num\">4.1&nbsp;&nbsp;</span>Comparing notebooks</a></span></li><li><span><a href=\"#Enabling-it-for-git-comparisons\" data-toc-modified-id=\"Enabling-it-for-git-comparisons-4.2\"><span class=\"toc-item-num\">4.2&nbsp;&nbsp;</span>Enabling it for git comparisons</a></span></li></ul></li></ul></div>"
   ]
  },
  {
   "cell_type": "markdown",
   "metadata": {
    "heading_collapsed": true
   },
   "source": [
    "# Autocompletion for git"
   ]
  },
  {
   "cell_type": "markdown",
   "metadata": {
    "hidden": true
   },
   "source": [
    "Usually you can tab-complete in the shell (bash, zsh, etc.) but not all the git commands we use.\n",
    "\n",
    "But there's good news! We can use this [script](https://github.com/git/git/blob/master/contrib/completion/git-completion.bash) to automate this! (FYI, you probably already have this file with your git installation but you can always redownload it)"
   ]
  },
  {
   "cell_type": "markdown",
   "metadata": {
    "heading_collapsed": true,
    "hidden": true
   },
   "source": [
    "## Example "
   ]
  },
  {
   "cell_type": "markdown",
   "metadata": {
    "hidden": true
   },
   "source": [
    "Just save the file & add it your configuration file (bash below):"
   ]
  },
  {
   "cell_type": "markdown",
   "metadata": {
    "hidden": true
   },
   "source": [
    "```sh\n",
    "echo \"source ~/git-completion.bash\" >> ~/.bash_profile\n",
    "```"
   ]
  },
  {
   "cell_type": "markdown",
   "metadata": {
    "hidden": true
   },
   "source": [
    "> Then we can restart the terminal or run this command: `source ~/.bash_profile`"
   ]
  },
  {
   "cell_type": "markdown",
   "metadata": {
    "heading_collapsed": true
   },
   "source": [
    "# Customizing the prompt"
   ]
  },
  {
   "cell_type": "markdown",
   "metadata": {
    "hidden": true
   },
   "source": [
    "We can also customize the prompt for git!"
   ]
  },
  {
   "cell_type": "markdown",
   "metadata": {
    "hidden": true
   },
   "source": [
    "Again we first to get the [script](https://github.com/git/git/blob/master/contrib/completion/git-prompt.sh) and then add it to our shell configuration file:\n",
    "\n",
    "```sh\n",
    "echo \"source ~/git-prompt.sh\" >> ~/.bash_profile\n",
    "```"
   ]
  },
  {
   "cell_type": "markdown",
   "metadata": {
    "heading_collapsed": true,
    "hidden": true
   },
   "source": [
    "## Example setup"
   ]
  },
  {
   "cell_type": "markdown",
   "metadata": {
    "hidden": true
   },
   "source": [
    "```sh\n",
    "source ~/git-prompt.sh\n",
    "export GIT_PS1_SHOWDIRTYSTATE=1\n",
    "# '\\$(__git_ps1)' adds git-related stuff\n",
    "# '\\W' adds the name of the current directory\n",
    "export PS1=\"\\W \\$(__git_ps1) $ \"\n",
    "\n",
    "```"
   ]
  },
  {
   "cell_type": "markdown",
   "metadata": {
    "hidden": true
   },
   "source": [
    "Results in something like this (git stuff in parentheses):\n",
    "\n",
    "![](images/git_prompt.png)"
   ]
  },
  {
   "cell_type": "markdown",
   "metadata": {
    "heading_collapsed": true
   },
   "source": [
    "# Aliasing commands for git"
   ]
  },
  {
   "cell_type": "markdown",
   "metadata": {
    "hidden": true
   },
   "source": [
    "We can make it a little easier to remember those long commands. Thankfully `git` has a way to do this by using `git config` to create an [alias](https://git-scm.com/book/en/v2/Git-Basics-Git-Aliases)."
   ]
  },
  {
   "cell_type": "markdown",
   "metadata": {
    "heading_collapsed": true,
    "hidden": true
   },
   "source": [
    "## Example: A prettier `git log`"
   ]
  },
  {
   "cell_type": "markdown",
   "metadata": {
    "hidden": true
   },
   "source": [
    "[GitHub Gist for git log](https://gist.github.com/MrGeislinger/a676778a6070aecb4dcb9cd0442797ba):\n",
    "\n",
    "```sh\n",
    "git config --global alias.lg 'log --all --color --graph --pretty=oneline --abbrev-commit'\n",
    "```"
   ]
  },
  {
   "cell_type": "markdown",
   "metadata": {
    "heading_collapsed": true
   },
   "source": [
    "# Better `diff` for Jupyter Notebooks"
   ]
  },
  {
   "cell_type": "markdown",
   "metadata": {
    "hidden": true
   },
   "source": [
    "When you try to look at the changes in git for Jupyter notebooks, it typically isn't pretty 😕"
   ]
  },
  {
   "cell_type": "markdown",
   "metadata": {
    "hidden": true
   },
   "source": [
    "[`nbdime`](https://nbdime.readthedocs.io/en/latest/) can fix a lot of this!"
   ]
  },
  {
   "cell_type": "markdown",
   "metadata": {
    "heading_collapsed": true,
    "hidden": true
   },
   "source": [
    "## Comparing notebooks"
   ]
  },
  {
   "cell_type": "markdown",
   "metadata": {
    "hidden": true
   },
   "source": [
    "```sh\n",
    "nbdiff notebook_A.ipynb notebook_B.ipynb\n",
    "```"
   ]
  },
  {
   "cell_type": "markdown",
   "metadata": {
    "heading_collapsed": true,
    "hidden": true
   },
   "source": [
    "## Enabling it for git comparisons"
   ]
  },
  {
   "cell_type": "markdown",
   "metadata": {
    "hidden": true
   },
   "source": [
    "Using it to compare notebooks is fine, but we're talking about *git* here! So let's enable this differencing everywhere for git!"
   ]
  },
  {
   "cell_type": "markdown",
   "metadata": {
    "hidden": true
   },
   "source": [
    "```sh\n",
    "nbdime config-git --enable --global\n",
    "```"
   ]
  }
 ],
 "metadata": {
  "kernelspec": {
   "display_name": "Python 3",
   "language": "python",
   "name": "python3"
  },
  "language_info": {
   "codemirror_mode": {
    "name": "ipython",
    "version": 3
   },
   "file_extension": ".py",
   "mimetype": "text/x-python",
   "name": "python",
   "nbconvert_exporter": "python",
   "pygments_lexer": "ipython3",
   "version": "3.7.1"
  },
  "toc": {
   "base_numbering": 1,
   "nav_menu": {},
   "number_sections": true,
   "sideBar": false,
   "skip_h1_title": false,
   "title_cell": "Table of Contents",
   "title_sidebar": "Contents",
   "toc_cell": true,
   "toc_position": {},
   "toc_section_display": true,
   "toc_window_display": false
  },
  "varInspector": {
   "cols": {
    "lenName": 16,
    "lenType": 16,
    "lenVar": 40
   },
   "kernels_config": {
    "python": {
     "delete_cmd_postfix": "",
     "delete_cmd_prefix": "del ",
     "library": "var_list.py",
     "varRefreshCmd": "print(var_dic_list())"
    },
    "r": {
     "delete_cmd_postfix": ") ",
     "delete_cmd_prefix": "rm(",
     "library": "var_list.r",
     "varRefreshCmd": "cat(var_dic_list()) "
    }
   },
   "types_to_exclude": [
    "module",
    "function",
    "builtin_function_or_method",
    "instance",
    "_Feature"
   ],
   "window_display": false
  }
 },
 "nbformat": 4,
 "nbformat_minor": 2
}
