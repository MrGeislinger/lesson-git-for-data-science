{
 "cells": [
  {
   "cell_type": "markdown",
   "metadata": {
    "toc": true
   },
   "source": [
    "<h1>Table of Contents<span class=\"tocSkip\"></span></h1>\n",
    "<div class=\"toc\"><ul class=\"toc-item\"><li><span><a href=\"#But-Why?!\" data-toc-modified-id=\"But-Why?!-1\"><span class=\"toc-item-num\">1&nbsp;&nbsp;</span>But Why?!</a></span><ul class=\"toc-item\"><li><span><a href=\"#GitHub-no-like\" data-toc-modified-id=\"GitHub-no-like-1.1\"><span class=\"toc-item-num\">1.1&nbsp;&nbsp;</span>GitHub no like</a></span></li><li><span><a href=\"#Bloated-repos\" data-toc-modified-id=\"Bloated-repos-1.2\"><span class=\"toc-item-num\">1.2&nbsp;&nbsp;</span>Bloated repos</a></span></li></ul></li><li><span><a href=\"#Solutions...?\" data-toc-modified-id=\"Solutions...?-2\"><span class=\"toc-item-num\">2&nbsp;&nbsp;</span>Solutions...?</a></span><ul class=\"toc-item\"><li><span><a href=\"#Step-0:-Don't-get-in-this-situation\" data-toc-modified-id=\"Step-0:-Don't-get-in-this-situation-2.1\"><span class=\"toc-item-num\">2.1&nbsp;&nbsp;</span>Step 0: Don't get in this situation</a></span><ul class=\"toc-item\"><li><span><a href=\"#But-what-do-I-do-about-the-data?\" data-toc-modified-id=\"But-what-do-I-do-about-the-data?-2.1.1\"><span class=\"toc-item-num\">2.1.1&nbsp;&nbsp;</span>But what do I do about the data?</a></span></li></ul></li><li><span><a href=\"#Remove-the-data\" data-toc-modified-id=\"Remove-the-data-2.2\"><span class=\"toc-item-num\">2.2&nbsp;&nbsp;</span>Remove the data</a></span></li><li><span><a href=\"#Keep-it-with-the-workaround-Git-LFS\" data-toc-modified-id=\"Keep-it-with-the-workaround-Git-LFS-2.3\"><span class=\"toc-item-num\">2.3&nbsp;&nbsp;</span>Keep it with the workaround Git LFS</a></span></li><li><span><a href=\"#GitHub-Releases\" data-toc-modified-id=\"GitHub-Releases-2.4\"><span class=\"toc-item-num\">2.4&nbsp;&nbsp;</span>GitHub Releases</a></span><ul class=\"toc-item\"><li><span><a href=\"#Wait,-what-are-releases?\" data-toc-modified-id=\"Wait,-what-are-releases?-2.4.1\"><span class=\"toc-item-num\">2.4.1&nbsp;&nbsp;</span>Wait, what are releases?</a></span></li><li><span><a href=\"#So-how-does-this-matter-to-a-data-scientist-like-me?\" data-toc-modified-id=\"So-how-does-this-matter-to-a-data-scientist-like-me?-2.4.2\"><span class=\"toc-item-num\">2.4.2&nbsp;&nbsp;</span>So how does this matter to a data scientist like me?</a></span></li><li><span><a href=\"#Disadvantages-&amp;-advantages-of-using-releases\" data-toc-modified-id=\"Disadvantages-&amp;-advantages-of-using-releases-2.4.3\"><span class=\"toc-item-num\">2.4.3&nbsp;&nbsp;</span>Disadvantages &amp; advantages of using releases</a></span></li></ul></li></ul></li></ul></div>"
   ]
  },
  {
   "cell_type": "markdown",
   "metadata": {},
   "source": [
    "Large files in your repo can be no fun 🙁"
   ]
  },
  {
   "cell_type": "markdown",
   "metadata": {},
   "source": [
    "# But Why?!"
   ]
  },
  {
   "cell_type": "markdown",
   "metadata": {},
   "source": [
    "## GitHub no like"
   ]
  },
  {
   "cell_type": "markdown",
   "metadata": {},
   "source": [
    "First and most obviously is that GitHub has a limit on size of individual files (100 MB): https://docs.github.com/en/free-pro-team@latest/github/managing-large-files/what-is-my-disk-quota\n",
    "\n",
    "> Note: In the past, GitHub had a hard limit to a single repo of 100GB but that doesn't seem to be present as of October 2020. But hey, don't make your repo 100 GB large. Come on, you're better than that."
   ]
  },
  {
   "cell_type": "markdown",
   "metadata": {},
   "source": [
    "## Bloated repos"
   ]
  },
  {
   "cell_type": "markdown",
   "metadata": {},
   "source": [
    "This is more subtle, but if you have large files in your repo they get meshed into how your repo works. And if you change any details of your data, it will keep a (compressed) _copy_ of your changes. This means slow syncing and annoyances when you clone somewhere else."
   ]
  },
  {
   "cell_type": "markdown",
   "metadata": {},
   "source": [
    "# Solutions...?"
   ]
  },
  {
   "cell_type": "markdown",
   "metadata": {},
   "source": [
    "## Step 0: Don't get in this situation"
   ]
  },
  {
   "cell_type": "markdown",
   "metadata": {},
   "source": [
    "The easiest solution is just don't get yourself in this predicament to begin with."
   ]
  },
  {
   "cell_type": "markdown",
   "metadata": {},
   "source": [
    "We can have a folder like `data/` & `models/` to put all those typically large files in and then have git ignore them with a `.gitignore` file like so:"
   ]
  },
  {
   "cell_type": "markdown",
   "metadata": {},
   "source": [
    "```sh\n",
    "data/\n",
    "models/\n",
    "```"
   ]
  },
  {
   "cell_type": "markdown",
   "metadata": {},
   "source": [
    "### But what do I do about the data?"
   ]
  },
  {
   "cell_type": "markdown",
   "metadata": {},
   "source": [
    "These keeps us from accidentally adding these files to a commit. But it doesn't really \"fix\" our problem."
   ]
  },
  {
   "cell_type": "markdown",
   "metadata": {},
   "source": [
    "We can at least describe to our reader on where the data were sourced and how to get it to reproduce the project results. You should **always** do this the best you can, but it does feel lacking.\n",
    "\n",
    "I like to be able to hand out my project URL and say \"just run the notebook\" rather than ensuring they read all my extra notes. (In the same vein but for environments. See [Docker](https://www.docker.com/))"
   ]
  },
  {
   "cell_type": "markdown",
   "metadata": {},
   "source": [
    "## Remove the data"
   ]
  },
  {
   "cell_type": "markdown",
   "metadata": {},
   "source": [
    "First (I think?), if you have some breaking commit because of some large data, you should probably remove it."
   ]
  },
  {
   "cell_type": "markdown",
   "metadata": {},
   "source": [
    "There's actually a great [article](https://medium.com/analytics-vidhya/tutorial-removing-large-files-from-git-78dbf4cf83a) from one of the Flatiron instructors Erinn Hoffman on this. She goes into detail about removing the commit and the large data associated with it."
   ]
  },
  {
   "cell_type": "markdown",
   "metadata": {},
   "source": [
    "But even after removing the data, you should still figure out how to make it accessible for anyone using your repo."
   ]
  },
  {
   "cell_type": "markdown",
   "metadata": {},
   "source": [
    "## Keep it with the workaround Git LFS"
   ]
  },
  {
   "cell_type": "markdown",
   "metadata": {},
   "source": [
    "[Git Large File Storage (or Git LFS)](https://git-lfs.github.com/) is a nice workaround that organizations like GitHub have developed for dealing with larger files.\n",
    "\n",
    "Essentially, it's cheating by storing a \"pointer\" file in your repo that \"points\" to the real large file which is stored separately from your repo (remote). Then you can get the data when you're actually using it in a commit."
   ]
  },
  {
   "cell_type": "markdown",
   "metadata": {},
   "source": [
    "Personally, it's fine but it's really not optimized for data science and machine learning work."
   ]
  },
  {
   "cell_type": "markdown",
   "metadata": {},
   "source": [
    "## GitHub Releases"
   ]
  },
  {
   "cell_type": "markdown",
   "metadata": {},
   "source": [
    "Using [GitHub Releases](https://docs.github.com/en/free-pro-team@latest/github/administering-a-repository/releasing-projects-on-github) has been my favorite method so far for large data.\n"
   ]
  },
  {
   "cell_type": "markdown",
   "metadata": {},
   "source": [
    "### Wait, what are releases?"
   ]
  },
  {
   "cell_type": "markdown",
   "metadata": {},
   "source": [
    "So releases are based around tags (that we [discussed before](beyond_basic_git.ipynb#Tags)) and are typically used to allow others to download a recent software package. \n",
    "\n",
    "Typically a release is centered around some version and has associated files (like binaries) for the version release."
   ]
  },
  {
   "cell_type": "markdown",
   "metadata": {},
   "source": [
    "### So how does this matter to a data scientist like me?"
   ]
  },
  {
   "cell_type": "markdown",
   "metadata": {},
   "source": [
    "So, the funny thing about releases it really wasn't designed with data science and machine learning in mind. But it sort of makes sense in the terms of including the data & model artifacts. \n",
    "\n",
    "We get to a certain point in our project where we'd want to document what we've done. This can the initial data but also cleaned data. We can also include new data to our project. When we train our model, we'd want to be able to use & refer back to those **exact** results!\n",
    "\n",
    "This is where a \"release\" can make a lot of sense here."
   ]
  },
  {
   "cell_type": "markdown",
   "metadata": {},
   "source": [
    "### Disadvantages & advantages of using releases"
   ]
  },
  {
   "cell_type": "markdown",
   "metadata": {},
   "source": [
    "The biggest issue I have with using releases is that it's reliant on you to ensure everything is set up well. You define the tag & release name. You upload the data and/or model checkpoints. If you're not careful, you can mess up your own work."
   ]
  },
  {
   "cell_type": "markdown",
   "metadata": {},
   "source": [
    "But there are some advantages I like too.\n",
    "\n",
    "- It's free\n",
    "- For small projects, size limits are typically not an issue\n",
    "- Allows me to have a download link to include for my data."
   ]
  }
 ],
 "metadata": {
  "kernelspec": {
   "display_name": "Python 3",
   "language": "python",
   "name": "python3"
  },
  "language_info": {
   "codemirror_mode": {
    "name": "ipython",
    "version": 3
   },
   "file_extension": ".py",
   "mimetype": "text/x-python",
   "name": "python",
   "nbconvert_exporter": "python",
   "pygments_lexer": "ipython3",
   "version": "3.7.1"
  },
  "toc": {
   "base_numbering": 1,
   "nav_menu": {},
   "number_sections": true,
   "sideBar": false,
   "skip_h1_title": false,
   "title_cell": "Table of Contents",
   "title_sidebar": "Contents",
   "toc_cell": true,
   "toc_position": {},
   "toc_section_display": true,
   "toc_window_display": false
  },
  "varInspector": {
   "cols": {
    "lenName": 16,
    "lenType": 16,
    "lenVar": 40
   },
   "kernels_config": {
    "python": {
     "delete_cmd_postfix": "",
     "delete_cmd_prefix": "del ",
     "library": "var_list.py",
     "varRefreshCmd": "print(var_dic_list())"
    },
    "r": {
     "delete_cmd_postfix": ") ",
     "delete_cmd_prefix": "rm(",
     "library": "var_list.r",
     "varRefreshCmd": "cat(var_dic_list()) "
    }
   },
   "types_to_exclude": [
    "module",
    "function",
    "builtin_function_or_method",
    "instance",
    "_Feature"
   ],
   "window_display": false
  }
 },
 "nbformat": 4,
 "nbformat_minor": 2
}
