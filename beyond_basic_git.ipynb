{
 "cells": [
  {
   "cell_type": "markdown",
   "metadata": {
    "toc": true
   },
   "source": [
    "<h1>Table of Contents<span class=\"tocSkip\"></span></h1>\n",
    "<div class=\"toc\"><ul class=\"toc-item\"><li><span><a href=\"#So-What-Are-the-Basics...?\" data-toc-modified-id=\"So-What-Are-the-Basics...?-1\"><span class=\"toc-item-num\">1&nbsp;&nbsp;</span>So What Are the Basics...?</a></span></li><li><span><a href=\"#Organizing-Your-Commits\" data-toc-modified-id=\"Organizing-Your-Commits-2\"><span class=\"toc-item-num\">2&nbsp;&nbsp;</span>Organizing Your Commits</a></span><ul class=\"toc-item\"><li><span><a href=\"#Branching\" data-toc-modified-id=\"Branching-2.1\"><span class=\"toc-item-num\">2.1&nbsp;&nbsp;</span>Branching</a></span></li></ul></li><li><span><a href=\"#Sending-Your-Work-Somewhere-Else\" data-toc-modified-id=\"Sending-Your-Work-Somewhere-Else-3\"><span class=\"toc-item-num\">3&nbsp;&nbsp;</span>Sending Your Work Somewhere Else</a></span><ul class=\"toc-item\"><li><span><a href=\"#Checking-your-remote\" data-toc-modified-id=\"Checking-your-remote-3.1\"><span class=\"toc-item-num\">3.1&nbsp;&nbsp;</span>Checking your remote</a></span></li><li><span><a href=\"#Different-remotes\" data-toc-modified-id=\"Different-remotes-3.2\"><span class=\"toc-item-num\">3.2&nbsp;&nbsp;</span>Different remotes</a></span></li></ul></li><li><span><a href=\"#Adding-a-Little-More-to-Your-Commits\" data-toc-modified-id=\"Adding-a-Little-More-to-Your-Commits-4\"><span class=\"toc-item-num\">4&nbsp;&nbsp;</span>Adding a Little More to Your Commits</a></span><ul class=\"toc-item\"><li><span><a href=\"#Signing-commits\" data-toc-modified-id=\"Signing-commits-4.1\"><span class=\"toc-item-num\">4.1&nbsp;&nbsp;</span>Signing commits</a></span></li><li><span><a href=\"#Tags\" data-toc-modified-id=\"Tags-4.2\"><span class=\"toc-item-num\">4.2&nbsp;&nbsp;</span>Tags</a></span></li></ul></li></ul></div>"
   ]
  },
  {
   "cell_type": "markdown",
   "metadata": {},
   "source": [
    "# So What Are the Basics...?"
   ]
  },
  {
   "cell_type": "markdown",
   "metadata": {},
   "source": [
    "Here I mean simply creating commits:\n",
    "\n",
    "1. Adding to the staging area: `git add file_name`\n",
    "2. Committing: `git commit`\n",
    "3. Syncing it to the remote: `git push`"
   ]
  },
  {
   "cell_type": "markdown",
   "metadata": {},
   "source": [
    "Easy as pie"
   ]
  },
  {
   "cell_type": "markdown",
   "metadata": {},
   "source": [
    "# Organizing Your Commits"
   ]
  },
  {
   "cell_type": "markdown",
   "metadata": {},
   "source": [
    "## Branching"
   ]
  },
  {
   "cell_type": "markdown",
   "metadata": {},
   "source": [
    "![](images/favorite_branch.jpg)"
   ]
  },
  {
   "cell_type": "markdown",
   "metadata": {},
   "source": [
    "![](images/git_checkout_branch.jpg)"
   ]
  },
  {
   "cell_type": "markdown",
   "metadata": {},
   "source": [
    "# Sending Your Work Somewhere Else"
   ]
  },
  {
   "cell_type": "markdown",
   "metadata": {},
   "source": [
    "## Checking your remote"
   ]
  },
  {
   "cell_type": "markdown",
   "metadata": {},
   "source": [
    "## Different remotes"
   ]
  },
  {
   "cell_type": "markdown",
   "metadata": {},
   "source": [
    "# Adding a Little More to Your Commits"
   ]
  },
  {
   "cell_type": "markdown",
   "metadata": {},
   "source": [
    "## Signing commits"
   ]
  },
  {
   "cell_type": "markdown",
   "metadata": {},
   "source": [
    "Who are you?\n",
    "![](images/spider_double_not_signing.jpg)"
   ]
  },
  {
   "cell_type": "markdown",
   "metadata": {},
   "source": [
    "## Tags"
   ]
  },
  {
   "cell_type": "markdown",
   "metadata": {},
   "source": [
    "We can tags to specify special milestones for our project. Particularly useful to say a new \"version\". We'll see how this is particularly useful with GitHub Releases."
   ]
  }
 ],
 "metadata": {
  "kernelspec": {
   "display_name": "Python 3",
   "language": "python",
   "name": "python3"
  },
  "language_info": {
   "codemirror_mode": {
    "name": "ipython",
    "version": 3
   },
   "file_extension": ".py",
   "mimetype": "text/x-python",
   "name": "python",
   "nbconvert_exporter": "python",
   "pygments_lexer": "ipython3",
   "version": "3.7.1"
  },
  "toc": {
   "base_numbering": 1,
   "nav_menu": {},
   "number_sections": true,
   "sideBar": false,
   "skip_h1_title": false,
   "title_cell": "Table of Contents",
   "title_sidebar": "Contents",
   "toc_cell": true,
   "toc_position": {},
   "toc_section_display": true,
   "toc_window_display": false
  },
  "varInspector": {
   "cols": {
    "lenName": 16,
    "lenType": 16,
    "lenVar": 40
   },
   "kernels_config": {
    "python": {
     "delete_cmd_postfix": "",
     "delete_cmd_prefix": "del ",
     "library": "var_list.py",
     "varRefreshCmd": "print(var_dic_list())"
    },
    "r": {
     "delete_cmd_postfix": ") ",
     "delete_cmd_prefix": "rm(",
     "library": "var_list.r",
     "varRefreshCmd": "cat(var_dic_list()) "
    }
   },
   "types_to_exclude": [
    "module",
    "function",
    "builtin_function_or_method",
    "instance",
    "_Feature"
   ],
   "window_display": false
  }
 },
 "nbformat": 4,
 "nbformat_minor": 2
}
