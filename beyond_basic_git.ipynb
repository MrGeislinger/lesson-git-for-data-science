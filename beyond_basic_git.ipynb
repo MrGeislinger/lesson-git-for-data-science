{
 "cells": [
  {
   "cell_type": "markdown",
   "metadata": {
    "toc": true
   },
   "source": [
    "<h1>Table of Contents<span class=\"tocSkip\"></span></h1>\n",
    "<div class=\"toc\"><ul class=\"toc-item\"><li><span><a href=\"#So-What-Are-the-Basics...?\" data-toc-modified-id=\"So-What-Are-the-Basics...?-1\"><span class=\"toc-item-num\">1&nbsp;&nbsp;</span>So What Are the Basics...?</a></span></li><li><span><a href=\"#Organizing-Your-Commits\" data-toc-modified-id=\"Organizing-Your-Commits-2\"><span class=\"toc-item-num\">2&nbsp;&nbsp;</span>Organizing Your Commits</a></span><ul class=\"toc-item\"><li><span><a href=\"#Branching\" data-toc-modified-id=\"Branching-2.1\"><span class=\"toc-item-num\">2.1&nbsp;&nbsp;</span>Branching</a></span><ul class=\"toc-item\"><li><span><a href=\"#The-master-main-branch\" data-toc-modified-id=\"The-master-main-branch-2.1.1\"><span class=\"toc-item-num\">2.1.1&nbsp;&nbsp;</span>The <del>master</del> main branch</a></span></li><li><span><a href=\"#Creating-branches\" data-toc-modified-id=\"Creating-branches-2.1.2\"><span class=\"toc-item-num\">2.1.2&nbsp;&nbsp;</span>Creating branches</a></span></li><li><span><a href=\"#Switching-branches\" data-toc-modified-id=\"Switching-branches-2.1.3\"><span class=\"toc-item-num\">2.1.3&nbsp;&nbsp;</span>Switching branches</a></span></li><li><span><a href=\"#Merging-branches\" data-toc-modified-id=\"Merging-branches-2.1.4\"><span class=\"toc-item-num\">2.1.4&nbsp;&nbsp;</span>Merging branches</a></span></li></ul></li></ul></li><li><span><a href=\"#Sending-Your-Work-Somewhere-Else\" data-toc-modified-id=\"Sending-Your-Work-Somewhere-Else-3\"><span class=\"toc-item-num\">3&nbsp;&nbsp;</span>Sending Your Work Somewhere Else</a></span><ul class=\"toc-item\"><li><span><a href=\"#Checking-your-remote\" data-toc-modified-id=\"Checking-your-remote-3.1\"><span class=\"toc-item-num\">3.1&nbsp;&nbsp;</span>Checking your remote</a></span></li><li><span><a href=\"#Different-remotes\" data-toc-modified-id=\"Different-remotes-3.2\"><span class=\"toc-item-num\">3.2&nbsp;&nbsp;</span>Different remotes</a></span><ul class=\"toc-item\"><li><span><a href=\"#Adding\" data-toc-modified-id=\"Adding-3.2.1\"><span class=\"toc-item-num\">3.2.1&nbsp;&nbsp;</span>Adding</a></span></li><li><span><a href=\"#Renaming\" data-toc-modified-id=\"Renaming-3.2.2\"><span class=\"toc-item-num\">3.2.2&nbsp;&nbsp;</span>Renaming</a></span></li><li><span><a href=\"#Removing\" data-toc-modified-id=\"Removing-3.2.3\"><span class=\"toc-item-num\">3.2.3&nbsp;&nbsp;</span>Removing</a></span></li></ul></li></ul></li><li><span><a href=\"#Adding-a-Little-More-to-Your-Commits\" data-toc-modified-id=\"Adding-a-Little-More-to-Your-Commits-4\"><span class=\"toc-item-num\">4&nbsp;&nbsp;</span>Adding a Little More to Your Commits</a></span><ul class=\"toc-item\"><li><span><a href=\"#Signing-commits\" data-toc-modified-id=\"Signing-commits-4.1\"><span class=\"toc-item-num\">4.1&nbsp;&nbsp;</span>Signing commits</a></span></li><li><span><a href=\"#Tags\" data-toc-modified-id=\"Tags-4.2\"><span class=\"toc-item-num\">4.2&nbsp;&nbsp;</span>Tags</a></span><ul class=\"toc-item\"><li><span><a href=\"#Some-resources-to-note\" data-toc-modified-id=\"Some-resources-to-note-4.2.1\"><span class=\"toc-item-num\">4.2.1&nbsp;&nbsp;</span>Some resources to note</a></span></li><li><span><a href=\"#Creating-a-tag\" data-toc-modified-id=\"Creating-a-tag-4.2.2\"><span class=\"toc-item-num\">4.2.2&nbsp;&nbsp;</span>Creating a tag</a></span><ul class=\"toc-item\"><li><span><a href=\"#Annotated\" data-toc-modified-id=\"Annotated-4.2.2.1\"><span class=\"toc-item-num\">4.2.2.1&nbsp;&nbsp;</span>Annotated</a></span></li><li><span><a href=\"#Lightweight\" data-toc-modified-id=\"Lightweight-4.2.2.2\"><span class=\"toc-item-num\">4.2.2.2&nbsp;&nbsp;</span>Lightweight</a></span></li><li><span><a href=\"#A-note-on-signing-tags\" data-toc-modified-id=\"A-note-on-signing-tags-4.2.2.3\"><span class=\"toc-item-num\">4.2.2.3&nbsp;&nbsp;</span>A note on signing tags</a></span></li></ul></li><li><span><a href=\"#Creating-a-tag-on-past-commit\" data-toc-modified-id=\"Creating-a-tag-on-past-commit-4.2.3\"><span class=\"toc-item-num\">4.2.3&nbsp;&nbsp;</span>Creating a tag on past commit</a></span></li><li><span><a href=\"#Syncing-tags-with-remote-(GitHub)\" data-toc-modified-id=\"Syncing-tags-with-remote-(GitHub)-4.2.4\"><span class=\"toc-item-num\">4.2.4&nbsp;&nbsp;</span>Syncing tags with remote (GitHub)</a></span></li><li><span><a href=\"#Deleting-tags\" data-toc-modified-id=\"Deleting-tags-4.2.5\"><span class=\"toc-item-num\">4.2.5&nbsp;&nbsp;</span>Deleting tags</a></span><ul class=\"toc-item\"><li><span><a href=\"#Deleting-is-easy\" data-toc-modified-id=\"Deleting-is-easy-4.2.5.1\"><span class=\"toc-item-num\">4.2.5.1&nbsp;&nbsp;</span>Deleting is easy</a></span></li><li><span><a href=\"#Syncing,-takes-an-extra-step\" data-toc-modified-id=\"Syncing,-takes-an-extra-step-4.2.5.2\"><span class=\"toc-item-num\">4.2.5.2&nbsp;&nbsp;</span>Syncing, takes an extra step</a></span></li></ul></li></ul></li></ul></li></ul></div>"
   ]
  },
  {
   "cell_type": "markdown",
   "metadata": {},
   "source": [
    "# So What Are the Basics...?"
   ]
  },
  {
   "cell_type": "markdown",
   "metadata": {},
   "source": [
    "Here I mean simply creating commits:\n",
    "\n",
    "1. Adding to the staging area: `git add file_name`\n",
    "2. Committing: `git commit`\n",
    "3. Syncing it to the remote: `git push`"
   ]
  },
  {
   "cell_type": "markdown",
   "metadata": {},
   "source": [
    "Easy as pie"
   ]
  },
  {
   "cell_type": "markdown",
   "metadata": {},
   "source": [
    "# Organizing Your Commits"
   ]
  },
  {
   "cell_type": "markdown",
   "metadata": {},
   "source": [
    "## Branching"
   ]
  },
  {
   "cell_type": "markdown",
   "metadata": {},
   "source": [
    "Branching allows us to work on different versions of our work in parallel. Great for trying out new techniques without \"ruining\" what you already have. Also makes it convenient for working in teams"
   ]
  },
  {
   "cell_type": "markdown",
   "metadata": {},
   "source": [
    "### The ~~master~~ main branch"
   ]
  },
  {
   "cell_type": "markdown",
   "metadata": {},
   "source": [
    "The `main` branch is referred to as the default branch. Usually we'll keep this one as the \"one true branch\", basically everything else are drafts, experiments, and works-in-progress."
   ]
  },
  {
   "cell_type": "markdown",
   "metadata": {},
   "source": [
    "<img width=\"60%\" src=\"https://wac-cdn.atlassian.com/dam/jcr:61ccc620-5249-4338-be66-94d563f2843c/05%20(2).svg?cdnVersion=1294\"/>"
   ]
  },
  {
   "cell_type": "markdown",
   "metadata": {},
   "source": [
    "> Note: Traditionally, we've used \"`master`\" to be the default branch that we work on. Note that industries recently have generally turned towards different terminology and \"`main`\" seems to be what most are using."
   ]
  },
  {
   "cell_type": "markdown",
   "metadata": {},
   "source": [
    "### Creating branches"
   ]
  },
  {
   "cell_type": "markdown",
   "metadata": {},
   "source": [
    "You can create a new branch with this simple command:\n",
    "\n",
    "```sh\n",
    "git branch my_new_branch\n",
    "```"
   ]
  },
  {
   "cell_type": "markdown",
   "metadata": {},
   "source": [
    "But you can do it this way too (I typically do it this way):\n",
    "\n",
    "```sh\n",
    "git checkout -b my_new_branch\n",
    "```    "
   ]
  },
  {
   "cell_type": "markdown",
   "metadata": {},
   "source": [
    "<img width=\"40%\" src=images/git_checkout_branch.jpg/>"
   ]
  },
  {
   "cell_type": "markdown",
   "metadata": {},
   "source": [
    "### Switching branches"
   ]
  },
  {
   "cell_type": "markdown",
   "metadata": {},
   "source": [
    "<img width=\"60%\" src=\"images/favorite_branch.jpg\"/>"
   ]
  },
  {
   "cell_type": "markdown",
   "metadata": {},
   "source": [
    "### Merging branches"
   ]
  },
  {
   "cell_type": "markdown",
   "metadata": {},
   "source": [
    "```sh\n",
    "git checkout main\n",
    "# Merges work from mybranch into current branch (main)\n",
    "git merge mybranch\n",
    "```"
   ]
  },
  {
   "cell_type": "markdown",
   "metadata": {},
   "source": [
    "# Sending Your Work Somewhere Else"
   ]
  },
  {
   "cell_type": "markdown",
   "metadata": {},
   "source": [
    "## Checking your remote"
   ]
  },
  {
   "cell_type": "markdown",
   "metadata": {},
   "source": [
    "```sh\n",
    "git remote -v\n",
    "```"
   ]
  },
  {
   "cell_type": "markdown",
   "metadata": {},
   "source": [
    "## Different remotes"
   ]
  },
  {
   "cell_type": "markdown",
   "metadata": {},
   "source": [
    "We can actually push & pull our repos to different remote locations! \n",
    "\n",
    "This can be useful if you have different locations for your repo but also if you are using a different platform like [Heroku](https://devcenter.heroku.com/articles/git)"
   ]
  },
  {
   "cell_type": "markdown",
   "metadata": {
    "ExecuteTime": {
     "end_time": "2020-10-13T07:47:16.565086Z",
     "start_time": "2020-10-13T07:47:16.560804Z"
    }
   },
   "source": [
    "### Adding"
   ]
  },
  {
   "cell_type": "markdown",
   "metadata": {
    "ExecuteTime": {
     "end_time": "2020-10-13T07:47:16.565086Z",
     "start_time": "2020-10-13T07:47:16.560804Z"
    }
   },
   "source": [
    "```sh\n",
    "git add remote_name remote_url\n",
    "```"
   ]
  },
  {
   "cell_type": "markdown",
   "metadata": {
    "ExecuteTime": {
     "end_time": "2020-10-13T07:47:16.565086Z",
     "start_time": "2020-10-13T07:47:16.560804Z"
    }
   },
   "source": [
    "### Renaming"
   ]
  },
  {
   "cell_type": "markdown",
   "metadata": {
    "ExecuteTime": {
     "end_time": "2020-10-13T07:47:16.565086Z",
     "start_time": "2020-10-13T07:47:16.560804Z"
    }
   },
   "source": [
    "```sh\n",
    "git remote rename old_remote_name new_remote_name\n",
    "```"
   ]
  },
  {
   "cell_type": "markdown",
   "metadata": {
    "ExecuteTime": {
     "end_time": "2020-10-13T07:47:16.565086Z",
     "start_time": "2020-10-13T07:47:16.560804Z"
    }
   },
   "source": [
    "### Removing"
   ]
  },
  {
   "cell_type": "markdown",
   "metadata": {
    "ExecuteTime": {
     "end_time": "2020-10-13T07:47:16.565086Z",
     "start_time": "2020-10-13T07:47:16.560804Z"
    }
   },
   "source": [
    "```sh\n",
    "git remote remove remote_name\n",
    "```"
   ]
  },
  {
   "cell_type": "markdown",
   "metadata": {},
   "source": [
    "# Adding a Little More to Your Commits"
   ]
  },
  {
   "cell_type": "markdown",
   "metadata": {},
   "source": [
    "## Signing commits"
   ]
  },
  {
   "cell_type": "markdown",
   "metadata": {},
   "source": [
    "Who are you?\n",
    "<img width=\"60%\" src=\"images/spider_double_not_signing.jpg\"/>"
   ]
  },
  {
   "cell_type": "markdown",
   "metadata": {},
   "source": [
    "> More information to how to get this enabled for GitHub: https://docs.github.com/en/free-pro-team@latest/github/authenticating-to-github/about-commit-signature-verification"
   ]
  },
  {
   "cell_type": "markdown",
   "metadata": {},
   "source": [
    "Once you've got it set, you can sign your commits like this:\n",
    "\n",
    "```sh\n",
    "git commit -S\n",
    "```"
   ]
  },
  {
   "cell_type": "markdown",
   "metadata": {},
   "source": [
    "## Tags"
   ]
  },
  {
   "cell_type": "markdown",
   "metadata": {},
   "source": [
    "We can tags to specify special milestones for our project. Particularly useful to say a new \"version\". We'll see how this is particularly useful with GitHub Releases.\n",
    "\n",
    "Now, tags are associated for software development but can be useful us too!"
   ]
  },
  {
   "cell_type": "markdown",
   "metadata": {},
   "source": [
    "<img width=\"60%\" src=\"images/hello_my_name_is.png\"/>"
   ]
  },
  {
   "cell_type": "markdown",
   "metadata": {},
   "source": [
    "### Some resources to note"
   ]
  },
  {
   "cell_type": "markdown",
   "metadata": {},
   "source": [
    "* Here's a quick summary of how to use tags: https://git-scm.com/book/en/v2/Git-Basics-Tagging\n",
    "* Another about version names (`MAJOR.MINOR.PATCH`): https://semver.org/"
   ]
  },
  {
   "cell_type": "markdown",
   "metadata": {},
   "source": [
    "### Creating a tag"
   ]
  },
  {
   "cell_type": "markdown",
   "metadata": {},
   "source": [
    "#### Annotated"
   ]
  },
  {
   "cell_type": "markdown",
   "metadata": {},
   "source": [
    "Simple enough:\n",
    "\n",
    "```sh\n",
    "git tag -a v0.1.0\n",
    "```"
   ]
  },
  {
   "cell_type": "markdown",
   "metadata": {},
   "source": [
    "This will then pull a prompt to add a message to the tag. Useful to understand what is going on in this version/tag. "
   ]
  },
  {
   "cell_type": "markdown",
   "metadata": {},
   "source": [
    "You also could add a message with a flag:\n",
    "\n",
    "```sh\n",
    "git tag -a v0.1.0 -m 'Initial version'\n",
    "```"
   ]
  },
  {
   "cell_type": "markdown",
   "metadata": {},
   "source": [
    "#### Lightweight"
   ]
  },
  {
   "cell_type": "markdown",
   "metadata": {},
   "source": [
    "This won't add a message but just the tag name:\n",
    "\n",
    "```sh\n",
    "git tag v0.1.0\n",
    "```"
   ]
  },
  {
   "cell_type": "markdown",
   "metadata": {},
   "source": [
    "#### A note on signing tags"
   ]
  },
  {
   "cell_type": "markdown",
   "metadata": {},
   "source": [
    "Remember that you can be impersonated. So you can simply sign your tags like you do with commits:\n",
    "\n",
    "```sh\n",
    "git tag -a v0.1.0 -s\n",
    "```"
   ]
  },
  {
   "cell_type": "markdown",
   "metadata": {},
   "source": [
    "### Creating a tag on past commit"
   ]
  },
  {
   "cell_type": "markdown",
   "metadata": {},
   "source": [
    "Sometimes we want to tag our commit after the fact. We can just look at the git log history and tag a specifc commit using the commit's hash:\n",
    "\n",
    "```sh\n",
    "git tag -a v0.1.1 9fceb02\n",
    "```"
   ]
  },
  {
   "cell_type": "markdown",
   "metadata": {},
   "source": [
    "### Syncing tags with remote (GitHub)"
   ]
  },
  {
   "cell_type": "markdown",
   "metadata": {},
   "source": [
    "`git push` won't push your tags by default. So to push all the tags at once we can do:\n",
    "\n",
    "```sh\n",
    "git push origin --tags\n",
    "```"
   ]
  },
  {
   "cell_type": "markdown",
   "metadata": {},
   "source": [
    "Note we can also push a specific tag:\n",
    "```sh\n",
    "git push origin v0.1.1\n",
    "```"
   ]
  },
  {
   "cell_type": "markdown",
   "metadata": {},
   "source": [
    "### Deleting tags"
   ]
  },
  {
   "cell_type": "markdown",
   "metadata": {},
   "source": [
    "Sometimes we made an oopsie and want to get rid of a tag."
   ]
  },
  {
   "cell_type": "markdown",
   "metadata": {},
   "source": [
    "#### Deleting is easy"
   ]
  },
  {
   "cell_type": "markdown",
   "metadata": {},
   "source": [
    "```sh\n",
    "git tag -d v0.1.1\n",
    "```"
   ]
  },
  {
   "cell_type": "markdown",
   "metadata": {},
   "source": [
    "#### Syncing, takes an extra step"
   ]
  },
  {
   "cell_type": "markdown",
   "metadata": {},
   "source": [
    "Short, simple way to remove the tag from remote:\n",
    "\n",
    "```sh\n",
    "git push origin --delete v0.1.1\n",
    "```"
   ]
  },
  {
   "cell_type": "markdown",
   "metadata": {},
   "source": [
    "Other way you might see online:\n",
    "\n",
    "```sh\n",
    "git push origin :refs/tags/v0.1.1\n",
    "```"
   ]
  }
 ],
 "metadata": {
  "kernelspec": {
   "display_name": "Python 3",
   "language": "python",
   "name": "python3"
  },
  "language_info": {
   "codemirror_mode": {
    "name": "ipython",
    "version": 3
   },
   "file_extension": ".py",
   "mimetype": "text/x-python",
   "name": "python",
   "nbconvert_exporter": "python",
   "pygments_lexer": "ipython3",
   "version": "3.7.1"
  },
  "toc": {
   "base_numbering": 1,
   "nav_menu": {},
   "number_sections": true,
   "sideBar": false,
   "skip_h1_title": false,
   "title_cell": "Table of Contents",
   "title_sidebar": "Contents",
   "toc_cell": true,
   "toc_position": {},
   "toc_section_display": true,
   "toc_window_display": false
  },
  "varInspector": {
   "cols": {
    "lenName": 16,
    "lenType": 16,
    "lenVar": 40
   },
   "kernels_config": {
    "python": {
     "delete_cmd_postfix": "",
     "delete_cmd_prefix": "del ",
     "library": "var_list.py",
     "varRefreshCmd": "print(var_dic_list())"
    },
    "r": {
     "delete_cmd_postfix": ") ",
     "delete_cmd_prefix": "rm(",
     "library": "var_list.r",
     "varRefreshCmd": "cat(var_dic_list()) "
    }
   },
   "types_to_exclude": [
    "module",
    "function",
    "builtin_function_or_method",
    "instance",
    "_Feature"
   ],
   "window_display": false
  }
 },
 "nbformat": 4,
 "nbformat_minor": 2
}
